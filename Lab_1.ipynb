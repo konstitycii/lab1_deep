{
 "cells": [
  {
   "cell_type": "markdown",
   "id": "6b3417fc-3162-4a3e-b626-6f22ac09730e",
   "metadata": {},
   "source": [
    "# Лабораторная работа 1. Перцептрон"
   ]
  },
  {
   "cell_type": "markdown",
   "id": "c59393c9-73b5-4369-ab58-77ceb10d39e2",
   "metadata": {},
   "source": [
    "**Задание**: реализовать граничное условие для окончания обучения перцептрона с использованием правила сходимости и зацикливания"
   ]
  },
  {
   "cell_type": "markdown",
   "id": "43e00555-83bd-4350-b2c1-72966877a675",
   "metadata": {},
   "source": [
    "## Загрузка модулей"
   ]
  },
  {
   "cell_type": "code",
   "execution_count": 47,
   "id": "0d76ad5e-0693-4a2a-b8e2-3bb8a8a31d0c",
   "metadata": {
    "tags": []
   },
   "outputs": [],
   "source": [
    "import pandas as pd\n",
    "import matplotlib.pyplot as plt\n",
    "import numpy as np"
   ]
  },
  {
   "cell_type": "markdown",
   "id": "7cc5d449-0e1d-4a7f-8c9d-7831499070cb",
   "metadata": {},
   "source": [
    "## Загрузка и подготовка данных"
   ]
  },
  {
   "cell_type": "code",
   "execution_count": 48,
   "id": "5dfcc4ea-5659-4975-81ab-b382ec5c80e5",
   "metadata": {
    "tags": []
   },
   "outputs": [
    {
     "data": {
      "text/html": [
       "<div>\n",
       "<style scoped>\n",
       "    .dataframe tbody tr th:only-of-type {\n",
       "        vertical-align: middle;\n",
       "    }\n",
       "\n",
       "    .dataframe tbody tr th {\n",
       "        vertical-align: top;\n",
       "    }\n",
       "\n",
       "    .dataframe thead th {\n",
       "        text-align: right;\n",
       "    }\n",
       "</style>\n",
       "<table border=\"1\" class=\"dataframe\">\n",
       "  <thead>\n",
       "    <tr style=\"text-align: right;\">\n",
       "      <th></th>\n",
       "      <th>0</th>\n",
       "      <th>1</th>\n",
       "      <th>2</th>\n",
       "      <th>3</th>\n",
       "      <th>4</th>\n",
       "    </tr>\n",
       "  </thead>\n",
       "  <tbody>\n",
       "    <tr>\n",
       "      <th>92</th>\n",
       "      <td>5.8</td>\n",
       "      <td>2.6</td>\n",
       "      <td>4.0</td>\n",
       "      <td>1.2</td>\n",
       "      <td>Iris-versicolor</td>\n",
       "    </tr>\n",
       "    <tr>\n",
       "      <th>44</th>\n",
       "      <td>5.1</td>\n",
       "      <td>3.8</td>\n",
       "      <td>1.9</td>\n",
       "      <td>0.4</td>\n",
       "      <td>Iris-setosa</td>\n",
       "    </tr>\n",
       "    <tr>\n",
       "      <th>136</th>\n",
       "      <td>6.3</td>\n",
       "      <td>3.4</td>\n",
       "      <td>5.6</td>\n",
       "      <td>2.4</td>\n",
       "      <td>Iris-virginica</td>\n",
       "    </tr>\n",
       "    <tr>\n",
       "      <th>29</th>\n",
       "      <td>4.7</td>\n",
       "      <td>3.2</td>\n",
       "      <td>1.6</td>\n",
       "      <td>0.2</td>\n",
       "      <td>Iris-setosa</td>\n",
       "    </tr>\n",
       "    <tr>\n",
       "      <th>64</th>\n",
       "      <td>5.6</td>\n",
       "      <td>2.9</td>\n",
       "      <td>3.6</td>\n",
       "      <td>1.3</td>\n",
       "      <td>Iris-versicolor</td>\n",
       "    </tr>\n",
       "    <tr>\n",
       "      <th>74</th>\n",
       "      <td>6.4</td>\n",
       "      <td>2.9</td>\n",
       "      <td>4.3</td>\n",
       "      <td>1.3</td>\n",
       "      <td>Iris-versicolor</td>\n",
       "    </tr>\n",
       "    <tr>\n",
       "      <th>84</th>\n",
       "      <td>5.4</td>\n",
       "      <td>3.0</td>\n",
       "      <td>4.5</td>\n",
       "      <td>1.5</td>\n",
       "      <td>Iris-versicolor</td>\n",
       "    </tr>\n",
       "    <tr>\n",
       "      <th>134</th>\n",
       "      <td>6.1</td>\n",
       "      <td>2.6</td>\n",
       "      <td>5.6</td>\n",
       "      <td>1.4</td>\n",
       "      <td>Iris-virginica</td>\n",
       "    </tr>\n",
       "    <tr>\n",
       "      <th>94</th>\n",
       "      <td>5.6</td>\n",
       "      <td>2.7</td>\n",
       "      <td>4.2</td>\n",
       "      <td>1.3</td>\n",
       "      <td>Iris-versicolor</td>\n",
       "    </tr>\n",
       "    <tr>\n",
       "      <th>83</th>\n",
       "      <td>6.0</td>\n",
       "      <td>2.7</td>\n",
       "      <td>5.1</td>\n",
       "      <td>1.6</td>\n",
       "      <td>Iris-versicolor</td>\n",
       "    </tr>\n",
       "  </tbody>\n",
       "</table>\n",
       "</div>"
      ],
      "text/plain": [
       "       0    1    2    3                4\n",
       "92   5.8  2.6  4.0  1.2  Iris-versicolor\n",
       "44   5.1  3.8  1.9  0.4      Iris-setosa\n",
       "136  6.3  3.4  5.6  2.4   Iris-virginica\n",
       "29   4.7  3.2  1.6  0.2      Iris-setosa\n",
       "64   5.6  2.9  3.6  1.3  Iris-versicolor\n",
       "74   6.4  2.9  4.3  1.3  Iris-versicolor\n",
       "84   5.4  3.0  4.5  1.5  Iris-versicolor\n",
       "134  6.1  2.6  5.6  1.4   Iris-virginica\n",
       "94   5.6  2.7  4.2  1.3  Iris-versicolor\n",
       "83   6.0  2.7  5.1  1.6  Iris-versicolor"
      ]
     },
     "execution_count": 48,
     "metadata": {},
     "output_type": "execute_result"
    }
   ],
   "source": [
    "df = pd.read_csv('data.csv')\n",
    "\n",
    "df = df.iloc[np.random.permutation(len(df))]\n",
    "y = df.iloc[0:100, 4].values\n",
    "y = np.where(y == \"Iris-setosa\", 1, -1)\n",
    "X = df.iloc[0:100, [0, 2]].values\n",
    "df.head(10)"
   ]
  },
  {
   "cell_type": "markdown",
   "id": "87588117-ba4f-4d53-8bc0-cff973070e7f",
   "metadata": {},
   "source": [
    "## Параметры модели"
   ]
  },
  {
   "cell_type": "code",
   "execution_count": 49,
   "id": "355b20f9-db29-4396-8340-06161b977035",
   "metadata": {
    "tags": []
   },
   "outputs": [],
   "source": [
    "inputSize = X.shape[1] # количество входных сигналов равно количеству признаков задачи \n",
    "hiddenSizes = 10 # число нейронов скрытого (А) слоя \n",
    "outputSize = 1 if len(y.shape) else y.shape[1] # количество выходных сигналов равно количеству классов задачи\n",
    "\n",
    "\n",
    "# матрица весов скрытого слоя\n",
    "Win = np.zeros((1+inputSize,hiddenSizes)) \n",
    "# пороги w0 задаем случайными числами\n",
    "Win[0,:] = (np.random.randint(0, 3, size = (hiddenSizes))) \n",
    "# остальные веса задаем случайно -1, 0 или 1 \n",
    "Win[1:,:] = (np.random.randint(-1, 2, size = (inputSize,hiddenSizes))) \n",
    "\n",
    "# случайно инициализируем веса выходного слоя\n",
    "Wout = np.random.randint(0, 2, size = (1+hiddenSizes,outputSize)).astype(np.float64)"
   ]
  },
  {
   "cell_type": "markdown",
   "id": "7dbd14ab-63bf-4f8e-9f0a-bb7db78f7ef6",
   "metadata": {},
   "source": [
    "## Функция предсказания"
   ]
  },
  {
   "cell_type": "code",
   "execution_count": 50,
   "id": "a2e96531-3d98-4787-8210-96d816923c0a",
   "metadata": {
    "tags": []
   },
   "outputs": [],
   "source": [
    "def predict(Xp):\n",
    "    # выходы первого слоя = входные сигналы * веса первого слоя\n",
    "    hidden_predict = np.where((np.dot(Xp, Win[1:,:]) + Win[0,:]) >= 0.0, 1, -1).astype(np.float64)\n",
    "    # выходы второго слоя = выходы первого слоя * веса второго слоя\n",
    "    out = np.where((np.dot(hidden_predict, Wout[1:,:]) + Wout[0,:]) >= 0.0, 1, -1).astype(np.float64)\n",
    "    return out, hidden_predict"
   ]
  },
  {
   "cell_type": "markdown",
   "id": "a69a324f-76dc-4db4-92ad-8e0dfe3e2e9a",
   "metadata": {},
   "source": [
    "## Обучение с фиксированным количеством итераций"
   ]
  },
  {
   "cell_type": "code",
   "execution_count": 51,
   "id": "46aab4de-10ed-4867-8990-f48c436dcb8a",
   "metadata": {
    "tags": []
   },
   "outputs": [],
   "source": [
    "n_iter=5\n",
    "eta = 0.01\n",
    "for i in range(n_iter):\n",
    "    for xi, target, j in zip(X, y, range(X.shape[0])):\n",
    "        pr, hidden = predict(xi) \n",
    "        Wout[1:] += ((eta * (target - pr)) * hidden).reshape(-1, 1)\n",
    "        Wout[0] += eta * (target - pr)"
   ]
  },
  {
   "cell_type": "markdown",
   "id": "dd201ffd-e444-49e0-a510-a399289e5686",
   "metadata": {},
   "source": [
    "## Обучение с граничным условием о сходимости и зацикливании"
   ]
  },
  {
   "cell_type": "code",
   "execution_count": 52,
   "id": "93b0a2b6-670d-4a92-a31d-b307d38b910d",
   "metadata": {
    "tags": []
   },
   "outputs": [
    {
     "name": "stdout",
     "output_type": "stream",
     "text": [
      "[array([-0.62, -0.38, -0.34,  0.38,  0.38,  0.38,  0.38,  0.38,  0.62,\n",
      "        0.62,  0.62])]\n"
     ]
    }
   ],
   "source": [
    "import numpy as np\n",
    "# Задаем скорость обучения (learning rate)\n",
    "eta = 0.01\n",
    "# Переменные для отслеживания сходимости\n",
    "converged = False\n",
    "no_change_count = 0\n",
    "\n",
    "while not converged:\n",
    "     # Список для хранения весов на каждой эпохе\n",
    "    epoch_weights = []\n",
    "\n",
    "    for xi, target in zip(X, y):\n",
    "        pr, hidden = predict(xi)\n",
    "        # Вычисляем ошибку\n",
    "        error = target - pr\n",
    "         # Обновляем веса для выходного слоя\n",
    "        Wout[1:] += ((eta * (target - pr)) * hidden).reshape(-1, 1)\n",
    "        Wout[0] += eta * (target - pr)\n",
    "        \n",
    "    # Проверяем, все ли примеры правильно классифицированы\n",
    "    all_correct = np.all([predict(xi)[0] == target for xi, target in zip(X, y)])\n",
    "\n",
    "\n",
    "    if all_correct:\n",
    "        converged = True\n",
    "        break\n",
    "# Если веса не изменились, это может быть признаком зацикливания\n",
    "    if no_change_count > 0:\n",
    "        print('Повтор весов')\n",
    "        break\n",
    "\n",
    "    weight = np.sort(Wout.copy().flatten())\n",
    "    epoch_weights.append(weight)\n",
    " # Проверяем, были ли такие же веса ранее\n",
    "    if any(np.array_equal(w, weight) for w in epoch_weights):\n",
    "        print(epoch_weights)\n",
    "        no_change_count += 1\n",
    "        break\n",
    "\n",
    "if converged:\n",
    "    print('Отсутствуют ошибки')"
   ]
  },
  {
   "cell_type": "markdown",
   "id": "7b11c8f8-2374-4298-ba50-2da3c0a72bc2",
   "metadata": {},
   "source": [
    "## Проверка модели на работу"
   ]
  },
  {
   "cell_type": "code",
   "execution_count": 53,
   "id": "71087026-df4a-490e-8b27-2af85b32d209",
   "metadata": {
    "tags": []
   },
   "outputs": [
    {
     "data": {
      "text/plain": [
       "array([14.])"
      ]
     },
     "execution_count": 53,
     "metadata": {},
     "output_type": "execute_result"
    }
   ],
   "source": [
    "y = df.iloc[:, 4].values\n",
    "y = np.where(y == \"Iris-setosa\", 1, -1)\n",
    "X = df.iloc[:, [0, 2]].values\n",
    "pr, hidden = predict(X)\n",
    "sum(pr-y.reshape(-1, 1))"
   ]
  },
  {
   "cell_type": "code",
   "execution_count": 54,
   "id": "284f41f2-d22e-445a-bc33-0ca25cc60afc",
   "metadata": {},
   "outputs": [
    {
     "data": {
      "text/plain": [
       "[0.37999999999999945,\n",
       " 0.6200000000000002,\n",
       " -0.6200000000000002,\n",
       " 0.6200000000000002,\n",
       " -0.34000000000000064,\n",
       " 0.37999999999999945,\n",
       " -0.38000000000000006,\n",
       " 0.37999999999999945,\n",
       " 0.37999999999999945,\n",
       " 0.37999999999999945,\n",
       " 0.6199999999999997]"
      ]
     },
     "execution_count": 54,
     "metadata": {},
     "output_type": "execute_result"
    }
   ],
   "source": [
    "Wout.reshape(1, -1)[0].tolist()"
   ]
  },
  {
   "cell_type": "code",
   "execution_count": 55,
   "id": "05f4cc52-91bf-47a7-9366-3b46435ffc06",
   "metadata": {},
   "outputs": [
    {
     "data": {
      "text/plain": [
       "[array([-0.62, -0.38, -0.34,  0.38,  0.38,  0.38,  0.38,  0.38,  0.62,\n",
       "         0.62,  0.62])]"
      ]
     },
     "execution_count": 55,
     "metadata": {},
     "output_type": "execute_result"
    }
   ],
   "source": [
    "epoch_weights"
   ]
  },
  {
   "cell_type": "code",
   "execution_count": 56,
   "id": "fbf5fe40-817c-4ba1-a2ec-0ff3dd61be24",
   "metadata": {},
   "outputs": [
    {
     "data": {
      "text/plain": [
       "[array([-0.62, -0.38, -0.34,  0.38,  0.38,  0.38,  0.38,  0.38,  0.62,\n",
       "         0.62,  0.62])]"
      ]
     },
     "execution_count": 56,
     "metadata": {},
     "output_type": "execute_result"
    }
   ],
   "source": [
    "epoch_weights"
   ]
  },
  {
   "cell_type": "code",
   "execution_count": 57,
   "id": "5707a879-99c0-401f-a1ff-ed3334493d14",
   "metadata": {},
   "outputs": [
    {
     "data": {
      "text/plain": [
       "True"
      ]
     },
     "execution_count": 57,
     "metadata": {},
     "output_type": "execute_result"
    }
   ],
   "source": [
    "t = [[-0.34, -0.34, -0.22,  0.66,  0.34, -0.34,  0.66,  1.34,  0.66,\n",
    "        0.66, -0.34]]\n",
    "\n",
    "[-0.34, -0.34, -0.22,  0.66,  0.34, -0.34,  0.66,  1.34,  0.66, 0.66, -0.34] in t"
   ]
  }
 ],
 "metadata": {
  "kernelspec": {
   "display_name": "Python 3 (ipykernel)",
   "language": "python",
   "name": "python3"
  },
  "language_info": {
   "codemirror_mode": {
    "name": "ipython",
    "version": 3
   },
   "file_extension": ".py",
   "mimetype": "text/x-python",
   "name": "python",
   "nbconvert_exporter": "python",
   "pygments_lexer": "ipython3",
   "version": "3.8.10"
  }
 },
 "nbformat": 4,
 "nbformat_minor": 5
}
